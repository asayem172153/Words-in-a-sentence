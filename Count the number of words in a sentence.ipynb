{
  "nbformat": 4,
  "nbformat_minor": 0,
  "metadata": {
    "colab": {
      "provenance": []
    },
    "kernelspec": {
      "name": "python3",
      "display_name": "Python 3"
    },
    "language_info": {
      "name": "python"
    }
  },
  "cells": [
    {
      "cell_type": "code",
      "execution_count": 4,
      "metadata": {
        "colab": {
          "base_uri": "https://localhost:8080/"
        },
        "id": "Jn2jf7bo3p0L",
        "outputId": "77349f44-2085-4a83-8409-2fea07dbc7a0"
      },
      "outputs": [
        {
          "output_type": "stream",
          "name": "stdout",
          "text": [
            "Total word 8\n"
          ]
        }
      ],
      "source": [
        "sentence = 'Count, the number of words. In a sentence'\n",
        "count = 0\n",
        "space = ' '\n",
        "\n",
        "for i in sentence:\n",
        "  if i != ' ' and space == ' ':\n",
        "    count += 1\n",
        "  space = i\n",
        "\n",
        "print('Total word',count)\n"
      ]
    },
    {
      "cell_type": "markdown",
      "source": [
        "**Using built in method**"
      ],
      "metadata": {
        "id": "W8Yr1MAg889Y"
      }
    },
    {
      "cell_type": "code",
      "source": [
        "sentence = 'Count, the number of words. In a sentence'\n",
        "\n",
        "word = sentence.split()\n",
        "\n",
        "print('Total word', len(word))"
      ],
      "metadata": {
        "colab": {
          "base_uri": "https://localhost:8080/"
        },
        "id": "J0RCo8O99B1x",
        "outputId": "e4916f56-3542-45b2-9b44-4f57736a5adf"
      },
      "execution_count": 5,
      "outputs": [
        {
          "output_type": "stream",
          "name": "stdout",
          "text": [
            "Total word 8\n"
          ]
        }
      ]
    }
  ]
}